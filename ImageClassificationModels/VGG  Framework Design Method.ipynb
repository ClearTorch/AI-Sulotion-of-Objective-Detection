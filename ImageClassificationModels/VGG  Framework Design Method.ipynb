{
 "cells": [
  {
   "cell_type": "markdown",
   "metadata": {},
   "source": [
    "# VGG网络设计思想与案例分析\n",
    "VGG网络是使用重复元素的网络。AlexNet在LeNet的基础上增加了3个卷积层。但AlexNet作者对它们的卷积窗口、输出通道数和构造顺序均做了大量的调整。虽然AlexNet指明了深度卷积神经网络可以取得出色的结果，但并没有提供简单的规则以指导后来的研究者如何设计新的网络。我们将在本章的后续几节里介绍几种不同的深度网络设计思路。它的名字来源于论文作者所在的实验室Visual Geometry Group。VGG提出了可以通过重复使用简单的基础块来构建深度模型的思路。\n",
    "\n",
    "## VGG块\n",
    "VGG块的组成规律是：连续使用数个相同的填充为1、窗口形状为3×33×3的卷积层后接上一个步幅为2、窗口形状为2×22×2的最大池化层。卷积层保持输入的高和宽不变，而池化层则对其减半。\n",
    "\n",
    "使用vgg_block函数来实现这个基础的VGG块，它可以指定卷积层的数量num_convs和输出通道数num_channels。\n",
    "\n",
    "## VGG网络\n",
    "与AlexNet和LeNet一样，VGG网络由卷积层模块后接全连接层模块构成。卷积层模块串联数个vgg_block，其超参数由变量conv_arch定义。该变量指定了每个VGG块里卷积层个数和输出通道数。全连接模块则跟AlexNet中的一样。\n",
    "\n",
    "## 本案例可以构建任意VGG框架\n",
    "方法：只要修改模型结构参数conv_arch即可，例如\n",
    "\n",
    "VGG11： conv_arch= ((1, 64), (1, 128), (2, 256), (2, 512), (2, 512))"
   ]
  },
  {
   "cell_type": "code",
   "execution_count": 112,
   "metadata": {
    "ExecuteTime": {
     "end_time": "2020-06-18T08:52:37.193634Z",
     "start_time": "2020-06-18T08:52:37.180907Z"
    }
   },
   "outputs": [
    {
     "name": "stdout",
     "output_type": "stream",
     "text": [
      "TensorFlow version: 2.2.0\n",
      "Numpy version: 1.18.1\n"
     ]
    }
   ],
   "source": [
    "import tensorflow as tf\n",
    "from tensorflow.keras import layers, models, losses, datasets,optimizers\n",
    "import numpy as np\n",
    "\n",
    "\n",
    "print('TensorFlow version:', tf.__version__)\n",
    "print('Numpy version:',np.__version__)\n",
    "\n",
    "for gpu in tf.config.experimental.list_physical_devices('GPU'):\n",
    "    tf.config.experimental.set_memory_growth(gpu, True)"
   ]
  },
  {
   "cell_type": "code",
   "execution_count": 113,
   "metadata": {
    "ExecuteTime": {
     "end_time": "2020-06-18T08:52:40.449704Z",
     "start_time": "2020-06-18T08:52:40.436737Z"
    }
   },
   "outputs": [],
   "source": [
    "\n",
    "class VGG():\n",
    "    def __init__(self):\n",
    "        fashion_mnist = datasets.fashion_mnist\n",
    "        (self.train_images, self.train_labels), (self.test_images, self.test_labels) = fashion_mnist.load_data()\n",
    "        self.train_images = np.expand_dims(self.train_images.astype(np.float32)/255.0,axis=-1)\n",
    "        self.test_images = np.expand_dims(self.test_images.astype(np.float32)/255.0,axis=-1)\n",
    "        self.train_labels = self.train_labels.astype(np.int32)\n",
    "        self.test_labels = self.test_labels.astype(np.int32)\n",
    "        self.num_train, self.num_test = self.train_images.shape[0], self.test_images.shape[0]\n",
    "\n",
    "    def get_batch_train(self, batch_size):\n",
    "        index = np.random.randint(0, np.shape(self.train_images)[0], batch_size)\n",
    "        #need to resize images to (224,224)\n",
    "        resized_images = tf.image.resize_with_pad(self.train_images[index],224,224,)\n",
    "        return resized_images.numpy(), self.train_labels[index]\n",
    "\n",
    "    def get_batch_test(self, batch_size):\n",
    "        index = np.random.randint(0, np.shape(self.test_images)[0], batch_size)\n",
    "        #need to resize images to (224,224)\n",
    "        resized_images = tf.image.resize_with_pad(self.test_images[index],224,224,)\n",
    "        return resized_images.numpy(), self.test_labels[index]\n",
    "    \n",
    "    def vgg_block(self, num_convs, num_channels):\n",
    "        blk = models.Sequential()\n",
    "        for _ in range(num_convs):\n",
    "            blk.add(layers.Conv2D(num_channels, kernel_size = 3, padding = 'same', activation = 'relu'))\n",
    "        blk.add(layers.MaxPool2D(pool_size = 2, strides = 2))\n",
    "        return blk\n",
    "    \n",
    "    def build_vgg(self, conv_arch):\n",
    "        tf.keras.backend.clear_session()\n",
    "        net = models.Sequential()\n",
    "        net.add(layers.InputLayer(input_shape=(224,224,1)))\n",
    "        for (num_convs, num_channels) in conv_arch:\n",
    "            net.add(self.vgg_block(num_convs, num_channels))\n",
    "        net.add(models.Sequential([layers.Flatten(), \n",
    "                                   layers.Dense(4096, activation='relu'),\n",
    "                                   layers.Dropout(0.5),\n",
    "                                   layers.Dense(4096, activation='relu'), layers.Dropout(0.5),\n",
    "                                   layers.Dense(10, activation = 'sigmoid')]))\n",
    "        optimizer = optimizers.SGD(learning_rate=0.05, momentum=0.0, nesterov=False)\n",
    "        net.compile(optimizer=optimizer,\n",
    "                      loss='sparse_categorical_crossentropy',\n",
    "                      metrics=['accuracy'])\n",
    "        net.summary()\n",
    "        return net\n",
    "\n",
    "    def see_output_shape(self, net):\n",
    "        X = tf.random.uniform((1,224,224,1))\n",
    "        for blk in net.layers:\n",
    "            X = blk(X)\n",
    "            print(blk.name, 'output shape:\\t', X.shape)\n",
    "\n",
    "    def train_vgg(self, net, epoch):\n",
    "    #   net.load_weights(\"./ModelTrain/vgg_weights.h5\")\n",
    "        num_iter = self.num_train//batch_size\n",
    "        with tf.device('/gpu:0'):\n",
    "            for e in range(epoch):\n",
    "                for n in range(num_iter):\n",
    "                    x_batch, y_batch = self.get_batch_train(batch_size)\n",
    "                    net.fit(x_batch, y_batch)\n",
    "        \n",
    "        net.save_weights(\"./ModelTrain/vgg11_weights.h5\")\n",
    "        return net \n"
   ]
  },
  {
   "cell_type": "code",
   "execution_count": null,
   "metadata": {
    "ExecuteTime": {
     "end_time": "2020-06-18T08:44:51.906525Z",
     "start_time": "2020-06-18T08:44:40.437554Z"
    }
   },
   "outputs": [],
   "source": [
    "if __name__ == '__main__':\n",
    "    \n",
    "    vgg = VGG()\n",
    "    batch_size = 128\n",
    "    x_batch, y_batch = vgg.get_batch_train(batch_size)\n",
    "    print(\"x_batch shape:\",x_batch.shape,\"y_batch shape:\", y_batch.shape)\n",
    "\n",
    "\n",
    "    conv_arch= ((1, 64), (1, 128), (2, 256), (2, 512), (2, 512))\n",
    "    ratio = 4\n",
    "    small_conv_arch = [(pair[0], pair[1] // ratio) for pair in conv_arch]\n",
    "    net = vgg.build_vgg(small_conv_arch)\n",
    "    vgg.see_output_shape(net)\n",
    "\n",
    "    net = vgg.train_vgg(net, 5)\n",
    "    ## Accuracy:0.9297"
   ]
  }
 ],
 "metadata": {
  "kernelspec": {
   "display_name": "Python 3",
   "language": "python",
   "name": "python3"
  },
  "language_info": {
   "codemirror_mode": {
    "name": "ipython",
    "version": 3
   },
   "file_extension": ".py",
   "mimetype": "text/x-python",
   "name": "python",
   "nbconvert_exporter": "python",
   "pygments_lexer": "ipython3",
   "version": "3.7.6"
  },
  "latex_envs": {
   "LaTeX_envs_menu_present": true,
   "autoclose": false,
   "autocomplete": true,
   "bibliofile": "biblio.bib",
   "cite_by": "apalike",
   "current_citInitial": 1,
   "eqLabelWithNumbers": true,
   "eqNumInitial": 1,
   "hotkeys": {
    "equation": "Ctrl-E",
    "itemize": "Ctrl-I"
   },
   "labels_anchors": false,
   "latex_user_defs": false,
   "report_style_numbering": false,
   "user_envs_cfg": false
  },
  "toc": {
   "base_numbering": 1,
   "nav_menu": {},
   "number_sections": true,
   "sideBar": true,
   "skip_h1_title": false,
   "title_cell": "Table of Contents",
   "title_sidebar": "Contents",
   "toc_cell": false,
   "toc_position": {},
   "toc_section_display": true,
   "toc_window_display": false
  },
  "varInspector": {
   "cols": {
    "lenName": 16,
    "lenType": 16,
    "lenVar": 40
   },
   "kernels_config": {
    "python": {
     "delete_cmd_postfix": "",
     "delete_cmd_prefix": "del ",
     "library": "var_list.py",
     "varRefreshCmd": "print(var_dic_list())"
    },
    "r": {
     "delete_cmd_postfix": ") ",
     "delete_cmd_prefix": "rm(",
     "library": "var_list.r",
     "varRefreshCmd": "cat(var_dic_list()) "
    }
   },
   "types_to_exclude": [
    "module",
    "function",
    "builtin_function_or_method",
    "instance",
    "_Feature"
   ],
   "window_display": false
  }
 },
 "nbformat": 4,
 "nbformat_minor": 4
}
